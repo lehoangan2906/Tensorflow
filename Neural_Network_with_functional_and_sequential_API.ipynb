{
  "nbformat": 4,
  "nbformat_minor": 0,
  "metadata": {
    "colab": {
      "provenance": [],
      "collapsed_sections": []
    },
    "kernelspec": {
      "name": "python3",
      "display_name": "Python 3"
    },
    "language_info": {
      "name": "python"
    },
    "accelerator": "GPU"
  },
  "cells": [
    {
      "cell_type": "code",
      "execution_count": 31,
      "metadata": {
        "id": "fkbi8PZlnWNm"
      },
      "outputs": [],
      "source": [
        "#importing the environment\n",
        "import os\n",
        "import sys\n",
        "os.environ['TF_CPP_MIN_LOG_LEVEL'] = '2'\n",
        "\n",
        "import tensorflow as tf\n",
        "from tensorflow import keras  # keras is a higher level API of Tensorflow\n",
        "from tensorflow.keras import layers\n",
        "from tensorflow.keras.datasets import mnist"
      ]
    },
    {
      "cell_type": "code",
      "source": [
        "# importing the dataset\n",
        "(x_train, y_train), (x_test, y_test) = mnist.load_data()\n",
        "\n",
        "print(\"x_train's shape = \", x_train.shape)\n",
        "print(\"y_train's shape = \", y_train.shape)\n",
        "print(\"\\n\")\n",
        "print(\"x_test's shape = \", x_test.shape)\n",
        "print(\"y_test's shape = \", y_test.shape)"
      ],
      "metadata": {
        "id": "-DQUMmrKn9nw",
        "colab": {
          "base_uri": "https://localhost:8080/"
        },
        "outputId": "cbafcf90-c906-44e2-b6fc-f13ec865069b"
      },
      "execution_count": 32,
      "outputs": [
        {
          "output_type": "stream",
          "name": "stdout",
          "text": [
            "x_train's shape =  (60000, 28, 28)\n",
            "y_train's shape =  (60000,)\n",
            "\n",
            "\n",
            "x_test's shape =  (10000, 28, 28)\n",
            "y_test's shape =  (10000,)\n"
          ]
        }
      ]
    },
    {
      "cell_type": "code",
      "source": [
        "# flattening the data\n",
        "x_train = x_train.reshape(-1, 28 * 28).astype(\"float32\")/255.0  # -1 means keep whatever the value is on that dimension, in this case, 60000\n",
        "                                                                # convert all to type float32 and divide by 255 to make the value \n",
        "                                                                # lie between 0 and 1\n",
        "\n",
        "x_test = x_test.reshape(-1, 28 * 28).astype(\"float32\")/255.0"
      ],
      "metadata": {
        "id": "hLxAGqZnoUxf"
      },
      "execution_count": 33,
      "outputs": []
    },
    {
      "cell_type": "code",
      "source": [
        "# Sequential API (very convenient, not veruy flexible because it only allow you to map 1 input to 1 output)\n",
        "model = keras.Sequential(\n",
        "    \n",
        "    # layers\n",
        "    [\n",
        "        keras.Input(shape = (28*28)),   # let you use model.summary\n",
        "        layers.Dense(512, activation = 'relu'), # fully connected layer - input layer with relu activation function\n",
        "        layers.Dense(256, activation = 'relu'), # hidden layer with relu activation function\n",
        "        layers.Dense(10), # output layer, no activation function\n",
        "    ]\n",
        ")\n",
        "\n",
        "print(model.summary())\n",
        "\n",
        "# Tells keras how to configure the training part of our network\n",
        "model.compile(\n",
        "    loss = keras.losses.SparseCategoricalCrossentropy(from_logits = True),  # specifying the loss function gonna use\n",
        "    optimizer = keras.optimizers.Adam(lr = 0.001),  # Specifying the optimizer to be adaptive moment estimation (adam), with learning rates = 0.001\n",
        "    metrics = [\"accuracy\"], # keras keeps track during training the accuracy\n",
        ")\n",
        "\n",
        "# specify more of the concrete training \n",
        "model.fit(x_train, y_train, batch_size = 32, epochs = 5, verbose = 2)\n",
        "\n",
        "# evaluate the model\n",
        "model.evaluate(x_test, y_test, batch_size = 32, verbose = 2)\n"
      ],
      "metadata": {
        "colab": {
          "base_uri": "https://localhost:8080/"
        },
        "id": "pnzTydkmoxpT",
        "outputId": "5cb2b6ff-d85d-46e8-cda6-211f9aa531ba"
      },
      "execution_count": 37,
      "outputs": [
        {
          "output_type": "stream",
          "name": "stdout",
          "text": [
            "Model: \"sequential_9\"\n",
            "_________________________________________________________________\n",
            " Layer (type)                Output Shape              Param #   \n",
            "=================================================================\n",
            " dense_36 (Dense)            (None, 512)               401920    \n",
            "                                                                 \n",
            " dense_37 (Dense)            (None, 256)               131328    \n",
            "                                                                 \n",
            " dense_38 (Dense)            (None, 10)                2570      \n",
            "                                                                 \n",
            "=================================================================\n",
            "Total params: 535,818\n",
            "Trainable params: 535,818\n",
            "Non-trainable params: 0\n",
            "_________________________________________________________________\n",
            "None\n",
            "Epoch 1/5\n",
            "1875/1875 - 4s - loss: 0.1855 - accuracy: 0.9441 - 4s/epoch - 2ms/step\n",
            "Epoch 2/5\n",
            "1875/1875 - 3s - loss: 0.0802 - accuracy: 0.9748 - 3s/epoch - 2ms/step\n",
            "Epoch 3/5\n",
            "1875/1875 - 3s - loss: 0.0558 - accuracy: 0.9823 - 3s/epoch - 2ms/step\n",
            "Epoch 4/5\n",
            "1875/1875 - 3s - loss: 0.0393 - accuracy: 0.9879 - 3s/epoch - 2ms/step\n",
            "Epoch 5/5\n",
            "1875/1875 - 3s - loss: 0.0316 - accuracy: 0.9895 - 3s/epoch - 2ms/step\n",
            "313/313 - 1s - loss: 0.0770 - accuracy: 0.9795 - 645ms/epoch - 2ms/step\n"
          ]
        },
        {
          "output_type": "execute_result",
          "data": {
            "text/plain": [
              "[0.07702871412038803, 0.9794999957084656]"
            ]
          },
          "metadata": {},
          "execution_count": 37
        }
      ]
    },
    {
      "cell_type": "code",
      "source": [
        "# Functional API (a bit more flexible)\n",
        "\n",
        "inputs = keras.Input(shape = (784), name = 'Input_layer')\n",
        "x = layers.Dense(512, activation = 'relu', name = 'First_hidden_layer')(inputs)\n",
        "x = layers.Dense(256, activation = 'relu', name = 'Second_hidden_layer')(x)\n",
        "outputs = layers.Dense(10, activation = 'softmax', name = 'output_layer')(x)\n",
        "\n",
        "model = keras.Model(inputs = inputs, outputs = outputs)\n",
        "\n",
        "# print model summarization\n",
        "print(model.summary())\n",
        "\n",
        "# compiling the model\n",
        "model.compile(\n",
        "    loss = keras.losses.SparseCategoricalCrossentropy(),\n",
        "    optimizer = keras.optimizers.Adam(lr = 0.001),\n",
        "    metrics = [\"Accuracy\"],\n",
        ")\n",
        "\n",
        "# specify more of the concrete training \n",
        "model.fit(x_train, y_train, batch_size = 32, epochs = 5, verbose = 2)\n",
        "\n",
        "# evaluate the model\n",
        "model.evaluate(x_test, y_test, batch_size = 32, verbose = 2)"
      ],
      "metadata": {
        "colab": {
          "base_uri": "https://localhost:8080/"
        },
        "id": "eBT7Y_nV5ZQi",
        "outputId": "4cbb6f80-914b-4987-b3e7-d514da2c4350"
      },
      "execution_count": 38,
      "outputs": [
        {
          "output_type": "stream",
          "name": "stdout",
          "text": [
            "Model: \"model_4\"\n",
            "_________________________________________________________________\n",
            " Layer (type)                Output Shape              Param #   \n",
            "=================================================================\n",
            " Input_layer (InputLayer)    [(None, 784)]             0         \n",
            "                                                                 \n",
            " First_hidden_layer (Dense)  (None, 512)               401920    \n",
            "                                                                 \n",
            " Second_hidden_layer (Dense)  (None, 256)              131328    \n",
            "                                                                 \n",
            " output_layer (Dense)        (None, 10)                2570      \n",
            "                                                                 \n",
            "=================================================================\n",
            "Total params: 535,818\n",
            "Trainable params: 535,818\n",
            "Non-trainable params: 0\n",
            "_________________________________________________________________\n",
            "None\n",
            "Epoch 1/5\n",
            "1875/1875 - 4s - loss: 0.1836 - Accuracy: 0.9442 - 4s/epoch - 2ms/step\n",
            "Epoch 2/5\n",
            "1875/1875 - 3s - loss: 0.0770 - Accuracy: 0.9763 - 3s/epoch - 2ms/step\n",
            "Epoch 3/5\n",
            "1875/1875 - 3s - loss: 0.0551 - Accuracy: 0.9829 - 3s/epoch - 2ms/step\n",
            "Epoch 4/5\n",
            "1875/1875 - 3s - loss: 0.0415 - Accuracy: 0.9863 - 3s/epoch - 2ms/step\n",
            "Epoch 5/5\n",
            "1875/1875 - 3s - loss: 0.0318 - Accuracy: 0.9896 - 3s/epoch - 2ms/step\n",
            "313/313 - 1s - loss: 0.0935 - Accuracy: 0.9730 - 660ms/epoch - 2ms/step\n"
          ]
        },
        {
          "output_type": "execute_result",
          "data": {
            "text/plain": [
              "[0.09351950138807297, 0.9729999899864197]"
            ]
          },
          "metadata": {},
          "execution_count": 38
        }
      ]
    },
    {
      "cell_type": "code",
      "source": [],
      "metadata": {
        "id": "bZ1rOdF184K8"
      },
      "execution_count": null,
      "outputs": []
    }
  ]
}